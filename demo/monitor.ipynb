{
 "cells": [
  {
   "cell_type": "code",
   "id": "initial_id",
   "metadata": {
    "collapsed": true,
    "ExecuteTime": {
     "end_time": "2024-11-16T13:25:06.910633Z",
     "start_time": "2024-11-16T13:25:06.906557Z"
    }
   },
   "source": [
    "import psutil\n",
    "\n",
    "memory = psutil.virtual_memory()\n",
    "print(f\"Memory Used: {memory.percent}%\")"
   ],
   "outputs": [
    {
     "name": "stdout",
     "output_type": "stream",
     "text": [
      "Memory Used: 25.7%\n"
     ]
    }
   ],
   "execution_count": 1
  },
  {
   "metadata": {},
   "cell_type": "code",
   "outputs": [],
   "execution_count": null,
   "source": [
    "import torch\n",
    "from thop import profile\n",
    "\n",
    "model = YourModel()\n",
    "input = torch.randn(1, 3, 224, 224)  # 根据模型修改输入\n",
    "flops, params = profile(model, inputs=(input,))\n",
    "print(f\"FLOPS: {flops}, Parameters: {params}\")\n"
   ],
   "id": "11b71e415c46c494"
  },
  {
   "metadata": {
    "ExecuteTime": {
     "end_time": "2024-12-16T06:36:52.170042Z",
     "start_time": "2024-12-16T06:36:52.167016Z"
    }
   },
   "cell_type": "code",
   "source": [
    "import torch.mps\n",
    "\n",
    "print(\"device_count:\", torch.mps.device_count())\n",
    "\n",
    "print(\"current_allocated_memory:\", torch.mps.current_allocated_memory())\n",
    "\n",
    "print(\"driver_allocated_memory:\", torch.mps.driver_allocated_memory())\n",
    "\n",
    "profile = torch.mps.profiler.profile();\n",
    "\n"
   ],
   "id": "bf48b0b049661683",
   "outputs": [
    {
     "name": "stdout",
     "output_type": "stream",
     "text": [
      "device_count: 1\n",
      "current_allocated_memory: 0\n",
      "driver_allocated_memory: 475136\n"
     ]
    }
   ],
   "execution_count": 5
  },
  {
   "metadata": {
    "ExecuteTime": {
     "end_time": "2024-12-16T06:41:48.761441Z",
     "start_time": "2024-12-16T06:41:39.588740Z"
    }
   },
   "cell_type": "code",
   "source": [
    "import os\n",
    "import torchvision.models as models\n",
    "import torch\n",
    "from tqdm import tqdm\n",
    "\n",
    "print(os.getpid())\n",
    "\n",
    "model = models.resnet18().to('mps')\n",
    "inputs = torch.randn(5, 3, 224, 224).to('mps')\n",
    "\n",
    "with torch.mps.profiler.profile(mode=\"interval\", wait_until_completed=False):\n",
    "    for i in tqdm(range(1000)):\n",
    "        output = model(inputs)"
   ],
   "id": "efd393e38a5c145b",
   "outputs": [
    {
     "name": "stdout",
     "output_type": "stream",
     "text": [
      "19431\n"
     ]
    },
    {
     "name": "stderr",
     "output_type": "stream",
     "text": [
      "100%|██████████| 1000/1000 [00:05<00:00, 193.70it/s]\n"
     ]
    }
   ],
   "execution_count": 6
  },
  {
   "metadata": {},
   "cell_type": "code",
   "outputs": [],
   "execution_count": null,
   "source": "",
   "id": "72015d510a1ec955"
  }
 ],
 "metadata": {
  "kernelspec": {
   "display_name": "Python 3",
   "language": "python",
   "name": "python3"
  },
  "language_info": {
   "codemirror_mode": {
    "name": "ipython",
    "version": 2
   },
   "file_extension": ".py",
   "mimetype": "text/x-python",
   "name": "python",
   "nbconvert_exporter": "python",
   "pygments_lexer": "ipython2",
   "version": "2.7.6"
  }
 },
 "nbformat": 4,
 "nbformat_minor": 5
}
