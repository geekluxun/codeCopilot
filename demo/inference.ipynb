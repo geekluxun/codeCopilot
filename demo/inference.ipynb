{
 "cells": [
  {
   "cell_type": "code",
   "execution_count": null,
   "id": "initial_id",
   "metadata": {
    "collapsed": true
   },
   "outputs": [],
   "source": [
    ""
   ]
  },
  {
   "metadata": {
    "ExecuteTime": {
     "end_time": "2024-11-19T08:11:48.382791Z",
     "start_time": "2024-11-19T08:08:54.050202Z"
    }
   },
   "cell_type": "code",
   "source": [
    "from transformers import AutoModelForCausalLM\n",
    "from transformers import pipeline\n",
    "\n",
    "#model = AutoModelForCausalLM.from_pretrained(\"/Users/luxun/workspace/ai/hf/models/Qwen1.5-0.5B\")\n",
    "#print(model)\n",
    "#pipe = pipeline(model=\"/Users/luxun/workspace/ai/hf/models/Qwen1.5-0.5B\")\n",
    "\n",
    "pipe = pipeline(\"text-generation\", model=\"/Users/luxun/workspace/ai/hf/models/Qwen1.5-0.5B\", device = \"mps\")\n",
    "pipe(\"This restaurant is awesome\")"
   ],
   "id": "e5056eb586d359a8",
   "outputs": [
    {
     "data": {
      "text/plain": [
       "[{'generated_text': 'This restaurant is awesome. The food is great and the service is great. The staff is very friendly and helpful. I would definitely recommend this place to anyone.\\nI had a great time at this restaurant. The food was delicious and the service was great. I would definitely recommend this place to anyone.\\nI had a great time at this restaurant. The food was delicious and the service was great. I would definitely recommend this place to anyone.\\nI had a great time at this restaurant. The food was delicious and the service was great. I would definitely recommend this place to anyone.\\nI had a great time at this restaurant. The food was delicious and the service was great. I would definitely recommend this place to anyone.\\nI had a great time at this restaurant. The food was delicious and the service was great. I would definitely recommend this place to anyone.\\nI had a great time at this restaurant. The food was delicious and the service was great. I would definitely recommend this place to anyone.\\nI had a great time at this restaurant. The food was delicious and the service was great. I would definitely recommend this place to anyone.\\nI had a great time at this restaurant. The food was delicious and the service was great. I would definitely recommend this place to anyone.\\nI had a great time at this restaurant. The food was delicious and the service was great. I would definitely recommend this place to anyone.\\nI had a great time at this restaurant. The food was delicious and the service was great. I would definitely recommend this place to anyone.\\nI had a great time at this restaurant. The food was delicious and the service was great. I would definitely recommend this place to anyone.\\nI had a great time at this restaurant. The food was delicious and the service was great. I would definitely recommend this place to anyone.\\nI had a great time at this restaurant. The food was delicious and the service was great. I would definitely recommend this place to anyone.\\nI had a great time at this restaurant. The food was delicious and the service was great. I would definitely recommend this place to anyone.\\nI had a great time at this restaurant. The food was delicious and the service was great. I would definitely recommend this place to anyone.\\nI had a great time at this restaurant. The food was delicious and the service was great. I would definitely recommend this place to anyone.\\nI had a great time at this restaurant. The food was delicious and the service was great. I would definitely recommend this place to anyone.\\nI had a great time at this restaurant. The food was delicious and the service was great. I would definitely recommend this place to anyone.\\nI had a great time at this restaurant. The food was delicious and the service was great. I would definitely recommend this place to anyone.\\nI had a great time at this restaurant. The food was delicious and the service was great. I would definitely recommend this place to anyone.\\nI had a great time at this restaurant. The food was delicious and the service was great. I would definitely recommend this place to anyone.\\nI had a great time at this restaurant. The food was delicious and the service was great. I would definitely recommend this place to anyone.\\nI had a great time at this restaurant. The food was delicious and the service was great. I would definitely recommend this place to anyone.\\nI had a great time at this restaurant. The food was delicious and the service was great. I would definitely recommend this place to anyone.\\nI had a great time at this restaurant. The food was delicious and the service was great. I would definitely recommend this place to anyone.\\nI had a great time at this restaurant. The food was delicious and the service was great. I would definitely recommend this place to anyone.\\nI had a great time at this restaurant. The food was delicious and the service was great. I would definitely recommend this place to anyone.\\nI had a great time at this restaurant. The food was delicious and the service was great. I would definitely recommend this place to anyone.\\nI had a great time at this restaurant. The food was delicious and the service was great. I would definitely recommend this place to anyone.\\nI had a great time at this restaurant. The food was delicious and the service was great. I would definitely recommend this place to anyone.\\nI had a great time at this restaurant. The food was delicious and the service was great. I would definitely recommend this place to anyone.\\nI had a great time at this restaurant. The food was delicious and the service was great. I would definitely recommend this place to anyone.\\nI had a great time at this restaurant. The food was delicious and the service was great. I would definitely recommend this place to anyone.\\nI had a great time at this restaurant. The food was delicious and the service was great. I would definitely recommend this place to anyone.\\nI had a great time at this restaurant. The food was delicious and the service was great. I would definitely recommend this place to anyone.\\nI had a great time at this restaurant. The food was delicious and the service was great. I would definitely recommend this place to anyone.\\nI had a great time at this restaurant. The food was delicious and the service was great. I would definitely recommend this place to anyone.\\nI had a great time at this restaurant. The food was delicious and the service was great. I would definitely recommend this place to anyone.\\nI had a great time at this restaurant. The food was delicious and the service was great. I would definitely recommend this place to anyone.\\nI had a great time at this restaurant. The food was delicious and the service was great. I would definitely recommend this place to anyone.\\nI had a great time at this restaurant. The food was delicious and the service was great. I would definitely recommend this place to anyone.\\nI had a great time at this restaurant. The food was delicious and the service was great. I would definitely recommend this place to anyone.\\nI had a great time at this restaurant. The food was delicious and the service was great. I would definitely recommend this place to anyone.\\nI had a great time at this restaurant. The food was delicious and the service was great. I would definitely recommend this place to anyone.\\nI had a great time at this restaurant. The food was delicious and the service was great. I would definitely recommend this place to anyone.\\nI had a great time at this restaurant. The food was delicious and the service was great. I would definitely recommend this place to anyone.\\nI had a great time at this restaurant. The food was delicious and the service was great. I would definitely recommend this place to anyone.\\nI had a great time at this restaurant. The food was delicious and the service was great. I would definitely recommend this place to anyone.\\nI had a great time at this restaurant. The food was delicious and the service was great. I would definitely recommend this place to anyone.\\nI had a great time at this restaurant. The food was delicious and the service was great. I would definitely recommend this place to anyone.\\nI had a great time at this restaurant. The food was delicious and the service was great. I would definitely recommend this place to anyone.\\nI had a great time at this restaurant. The food was delicious and the service was great. I would definitely recommend this place to anyone.\\nI had a great time at this restaurant. The food was delicious and the service was great. I would definitely recommend this place to anyone.\\nI had a great time at this restaurant. The food was delicious and the service was great. I would definitely recommend this place to anyone.\\nI had a great time at this restaurant. The food was delicious and the service was great. I would definitely recommend this place to anyone.\\nI had a great time at this restaurant. The food was delicious and the service was great. I would definitely recommend this place to anyone.\\nI had a great time at this restaurant. The food was delicious and the service was great. I would definitely recommend this place to anyone.\\nI had a great time at this restaurant. The food was delicious and the service was great. I would definitely recommend this place to anyone.\\nI had a great time at this restaurant. The food was delicious and the service was great. I would definitely recommend this place to anyone.\\nI had a great time at this restaurant. The food was delicious and the service was great. I would definitely recommend this place to anyone.\\nI had a great time at this restaurant. The food was delicious and the service was great. I would definitely recommend this place to anyone.\\nI had a great time at this restaurant. The food was delicious and the service was great. I would definitely recommend this place to anyone.\\nI had a great time at this restaurant. The food was delicious and the service was great. I would definitely recommend this place to anyone.\\nI had a great time at this restaurant. The food was delicious and the service was great. I would definitely recommend this place to anyone.\\nI had a great time at this restaurant. The food was delicious and the service was great. I would definitely recommend this place to anyone.\\nI had a great time at this restaurant. The food was delicious and the service was great. I would definitely recommend this place to anyone.\\nI had a great time at this restaurant. The food was delicious and the service was great. I would definitely recommend this place to anyone.\\nI had a great time at this restaurant. The food was delicious and the service was great. I would definitely recommend this place to anyone.\\nI had a great time at this restaurant. The food was delicious and the service was great. I would definitely recommend this place to anyone.\\nI had a great time at this restaurant. The food was delicious and the service was great. I would definitely recommend this place to anyone.\\nI had a great time at this restaurant. The food was delicious and the service was great. I would definitely recommend this place to anyone.\\nI had a great time at this restaurant. The food was delicious and the service was great. I would definitely recommend this place to anyone.\\nI had a great'}]"
      ]
     },
     "execution_count": 8,
     "metadata": {},
     "output_type": "execute_result"
    }
   ],
   "execution_count": 8
  },
  {
   "metadata": {},
   "cell_type": "code",
   "outputs": [],
   "execution_count": null,
   "source": "",
   "id": "dacb8fb3abd81042"
  }
 ],
 "metadata": {
  "kernelspec": {
   "display_name": "Python 3",
   "language": "python",
   "name": "python3"
  },
  "language_info": {
   "codemirror_mode": {
    "name": "ipython",
    "version": 2
   },
   "file_extension": ".py",
   "mimetype": "text/x-python",
   "name": "python",
   "nbconvert_exporter": "python",
   "pygments_lexer": "ipython2",
   "version": "2.7.6"
  }
 },
 "nbformat": 4,
 "nbformat_minor": 5
}
