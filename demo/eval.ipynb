{
 "cells": [
  {
   "metadata": {},
   "cell_type": "code",
   "source": [
    "import evaluate\n",
    "from evaluate import load"
   ],
   "id": "c066375f67edb596",
   "outputs": [],
   "execution_count": null
  },
  {
   "metadata": {},
   "cell_type": "code",
   "source": [
    "clf_metrics = evaluate.combine([\"accuracy\", \"f1\", \"precision\", \"recall\"])\n",
    "clf_metrics.compute(predictions=[0, 1, 0], references=[0, 1, 1])"
   ],
   "id": "initial_id",
   "outputs": [],
   "execution_count": null
  },
  {
   "metadata": {},
   "cell_type": "code",
   "source": [
    "accuracy = evaluate.load(\"accuracy\")\n",
    "print(accuracy.description)"
   ],
   "id": "d6b71010e98d201b",
   "outputs": [],
   "execution_count": null
  },
  {
   "metadata": {},
   "cell_type": "code",
   "source": [
    "# 计算句子的困惑度\n",
    "perplexity = evaluate.load(\"perplexity\", module_type=\"metric\")\n",
    "print(perplexity.description)\n",
    "input_texts = [\"hello world\", \"Happy Birthday!\", \"How are you!\"]\n",
    "\n",
    "results = perplexity.compute(model_id='/Users/luxun/workspace/ai/hf/models/Qwen1.5-0.5B',\n",
    "                             add_start_token=False,\n",
    "                             predictions=input_texts)\n",
    "print(results)"
   ],
   "id": "d26db21b42cd25f3",
   "outputs": [],
   "execution_count": null
  },
  {
   "metadata": {},
   "cell_type": "code",
   "source": [
    "predictions = [\"hello there general kenobi\"]\n",
    "references = [\n",
    "    [\"hello there general kenobi\"]\n",
    "]\n",
    "bleu = evaluate.load(\"bleu\")\n",
    "results = bleu.compute(predictions=predictions, references=references)\n",
    "print(results)\n"
   ],
   "id": "108814a6508cbbd",
   "outputs": [],
   "execution_count": null
  },
  {
   "metadata": {},
   "cell_type": "code",
   "source": [
    "glue_metric = load('glue', 'cola')\n",
    "references = [0, 1]\n",
    "predictions = [1, 1]\n",
    "results = glue_metric.compute(predictions=predictions, references=references)\n",
    "print(results)"
   ],
   "id": "3def247a5b0ec3a5",
   "outputs": [],
   "execution_count": null
  },
  {
   "metadata": {},
   "cell_type": "code",
   "source": [
    "glue_metric = evaluate.load('glue', 'mrpc')\n",
    "references = [0, 1]\n",
    "predictions = [1, 1]\n",
    "results = glue_metric.compute(predictions=predictions, references=references)\n",
    "print(results)"
   ],
   "id": "a75df011aaa90223",
   "outputs": [],
   "execution_count": null
  },
  {
   "metadata": {},
   "cell_type": "code",
   "source": [
    "#支持哪些评估\n",
    "evaluate.list_evaluation_modules(include_community=True,module_type=\"metric\")"
   ],
   "id": "ef79d675bbf7a7b7",
   "outputs": [],
   "execution_count": null
  }
 ],
 "metadata": {
  "kernelspec": {
   "display_name": "Python 3",
   "language": "python",
   "name": "python3"
  },
  "language_info": {
   "codemirror_mode": {
    "name": "ipython",
    "version": 2
   },
   "file_extension": ".py",
   "mimetype": "text/x-python",
   "name": "python",
   "nbconvert_exporter": "python",
   "pygments_lexer": "ipython2",
   "version": "2.7.6"
  }
 },
 "nbformat": 4,
 "nbformat_minor": 5
}
